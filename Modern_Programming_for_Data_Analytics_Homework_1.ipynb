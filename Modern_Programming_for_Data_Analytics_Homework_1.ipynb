{
  "nbformat": 4,
  "nbformat_minor": 0,
  "metadata": {
    "colab": {
      "provenance": [],
      "collapsed_sections": [],
      "include_colab_link": true
    },
    "kernelspec": {
      "name": "python3",
      "display_name": "Python 3"
    },
    "language_info": {
      "name": "python"
    }
  },
  "cells": [
    {
      "cell_type": "markdown",
      "metadata": {
        "id": "view-in-github",
        "colab_type": "text"
      },
      "source": [
        "<a href=\"https://colab.research.google.com/github/dsp09/38610/blob/main/Modern_Programming_for_Data_Analytics_Homework_1.ipynb\" target=\"_parent\"><img src=\"https://colab.research.google.com/assets/colab-badge.svg\" alt=\"Open In Colab\"/></a>"
      ]
    },
    {
      "cell_type": "markdown",
      "source": [
        "# Modern Programming for Data Analytics\n",
        "Name: Devi Sai Prashanthi Kukkapalli\n",
        "\n",
        "Andrew ID: dkukkapa"
      ],
      "metadata": {
        "id": "q32gveKttS1e"
      }
    },
    {
      "cell_type": "markdown",
      "source": [
        "# Exercise - Using `pip` to install packages\n",
        "Install the package [cowsay](https://pypi.org/project/cowsay/) using `pip`.\n",
        "\n",
        "Read the package documentation and write the commands to print the following diagram\n",
        "\n",
        "```\n",
        "  _____________\n",
        "| Ghostbusters! |\n",
        "  =============\n",
        "                     \\\n",
        "                      \\\n",
        "                       \\\n",
        "                        \\\n",
        "                                    __---__\n",
        "                                 _-       /--______\n",
        "                            __--( /     \\ )XXXXXXXXXXX\\v.\n",
        "                          .-XXX(   O   O  )XXXXXXXXXXXXXXX-\n",
        "                         /XXX(       U     )        XXXXXXX\\\n",
        "                       /XXXXX(              )--_  XXXXXXXXXXX\\\n",
        "                      /XXXXX/ (      O     )   XXXXXX   \\XXXXX\\\n",
        "                      XXXXX/   /            XXXXXX   \\__ \\XXXXX\n",
        "                      XXXXXX__/          XXXXXX         \\__---->\n",
        "              ---___  XXX__/          XXXXXX      \\__         /\n",
        "                \\-  --__/   ___/\\  XXXXXX            /  ___--/=\n",
        "                 \\-\\    ___/    XXXXXX              '--- XXXXXX\n",
        "                    \\-\\/XXX\\ XXXXXX                      /XXXXX\n",
        "                      \\XXXXXXXXX   \\                    /XXXXX/\n",
        "                       \\XXXXXX      >                 _/XXXXX/\n",
        "                         \\XXXXX--__/              __-- XXXX/\n",
        "                          -XXXXXXXX---------------  XXXXXX-\n",
        "                             \\XXXXXXXXXXXXXXXXXXXXXXXXXX/\n",
        "                               \"\"VXXXXXXXXXXXXXXXXXXV\"\"\n",
        "```"
      ],
      "metadata": {
        "id": "rZpjQ6Yged6i"
      }
    },
    {
      "cell_type": "code",
      "execution_count": null,
      "metadata": {
        "id": "TvbZcWBAedAf",
        "outputId": "029729f5-ec27-4857-c4b1-59a6beb601b3",
        "colab": {
          "base_uri": "https://localhost:8080/"
        }
      },
      "outputs": [
        {
          "output_type": "stream",
          "name": "stdout",
          "text": [
            "Looking in indexes: https://pypi.org/simple, https://us-python.pkg.dev/colab-wheels/public/simple/\n",
            "Collecting cowsay\n",
            "  Downloading cowsay-5.0.tar.gz (25 kB)\n",
            "Building wheels for collected packages: cowsay\n",
            "  Building wheel for cowsay (setup.py) ... \u001b[?25l\u001b[?25hdone\n",
            "  Created wheel for cowsay: filename=cowsay-5.0-py2.py3-none-any.whl size=25725 sha256=c656870aa7d59a8969a9619c2d84001f3345ec4b02e0195c426c8c225d253543\n",
            "  Stored in directory: /root/.cache/pip/wheels/ec/64/04/df66e4b3e5afa8fc293c3c5fae0269a55b80f381d833010aeb\n",
            "Successfully built cowsay\n",
            "Installing collected packages: cowsay\n",
            "Successfully installed cowsay-5.0\n",
            "  ____________\n",
            "| Ghostbusters |\n",
            "  ============\n",
            "                    \\\n",
            "                     \\\n",
            "                      \\\n",
            "                       \\\n",
            "                                   __---__\n",
            "                                _-       /--______\n",
            "                           __--( /     \\ )XXXXXXXXXXX\\v.\n",
            "                         .-XXX(   O   O  )XXXXXXXXXXXXXXX-\n",
            "                        /XXX(       U     )        XXXXXXX\\\n",
            "                      /XXXXX(              )--_  XXXXXXXXXXX\\\n",
            "                     /XXXXX/ (      O     )   XXXXXX   \\XXXXX\\\n",
            "                     XXXXX/   /            XXXXXX   \\__ \\XXXXX\n",
            "                     XXXXXX__/          XXXXXX         \\__---->\n",
            "             ---___  XXX__/          XXXXXX      \\__         /\n",
            "               \\-  --__/   ___/\\  XXXXXX            /  ___--/=\n",
            "                \\-\\    ___/    XXXXXX              '--- XXXXXX\n",
            "                   \\-\\/XXX\\ XXXXXX                      /XXXXX\n",
            "                     \\XXXXXXXXX   \\                    /XXXXX/\n",
            "                      \\XXXXXX      >                 _/XXXXX/\n",
            "                        \\XXXXX--__/              __-- XXXX/\n",
            "                         -XXXXXXXX---------------  XXXXXX-\n",
            "                            \\XXXXXXXXXXXXXXXXXXXXXXXXXX/\n",
            "                              \"\"VXXXXXXXXXXXXXXXXXXV\"\"\n"
          ]
        }
      ],
      "source": [
        "!pip install cowsay\n",
        "import cowsay\n",
        "cowsay.ghostbusters('Ghostbusters')"
      ]
    },
    {
      "cell_type": "markdown",
      "source": [
        "# Exercise - Faker\n",
        "[Faker](https://pypi.org/project/Faker/) is a Python package that generates fake data for you. Whether you need to bootstrap your database, create good-looking XML documents, fill-in your persistence to stress test it, or anonymize data taken from a production service, Faker is for you.\n",
        "\n",
        "The cell below defines the method `generate_fake_records` that generates fake data and stores the data in a dictionary named `team`."
      ],
      "metadata": {
        "id": "pOdGLNPGl9tK"
      }
    },
    {
      "cell_type": "code",
      "source": [
        "# DO NOT MODIFY THIS CELL\n",
        "\n",
        "!pip install faker\n",
        "import numpy as np\n",
        "from faker import Faker\n",
        "\n",
        "fake = Faker()\n",
        "\n",
        "def generate_fake_records( number_of_records ):\n",
        "  '''\n",
        "  Helper function that generates a fake team member record.\n",
        "\n",
        "  :param number_of_records: Number of records to generate\n",
        "  :type number_of_records: integer\n",
        "  :rtype: list of dictionaries\n",
        "  '''\n",
        "\n",
        "  status_list = ['Full Time', 'Part Time']\n",
        "  team_list = ['Data curator','Data wrangler', 'Data analyst','Project manager']\n",
        "  \n",
        "\n",
        "  data = [{'ID':x+1000,\n",
        "          'Name':fake.name(), \n",
        "          'Hire Date':fake.date_between(start_date='-25y', end_date='today'),\n",
        "          'Status':np.random.choice(status_list, p=[0.50, 0.50]),\n",
        "          'Role':np.random.choice(team_list)} for x in range(number_of_records)]\n",
        "      \n",
        "  return data\n",
        "\n",
        "team = generate_fake_records(number_of_records=25)"
      ],
      "metadata": {
        "id": "J_M23E-ul_y4",
        "outputId": "d90a8d72-2f0a-462f-9197-8a65fa180165",
        "colab": {
          "base_uri": "https://localhost:8080/"
        }
      },
      "execution_count": null,
      "outputs": [
        {
          "output_type": "stream",
          "name": "stdout",
          "text": [
            "Looking in indexes: https://pypi.org/simple, https://us-python.pkg.dev/colab-wheels/public/simple/\n",
            "Collecting faker\n",
            "  Downloading Faker-14.2.0-py3-none-any.whl (1.6 MB)\n",
            "\u001b[K     |████████████████████████████████| 1.6 MB 5.0 MB/s \n",
            "\u001b[?25hRequirement already satisfied: typing-extensions>=3.7.4.3 in /usr/local/lib/python3.7/dist-packages (from faker) (4.1.1)\n",
            "Requirement already satisfied: python-dateutil>=2.4 in /usr/local/lib/python3.7/dist-packages (from faker) (2.8.2)\n",
            "Requirement already satisfied: six>=1.5 in /usr/local/lib/python3.7/dist-packages (from python-dateutil>=2.4->faker) (1.15.0)\n",
            "Installing collected packages: faker\n",
            "Successfully installed faker-14.2.0\n"
          ]
        }
      ]
    },
    {
      "cell_type": "markdown",
      "source": [
        "Tabulate pretty-prints tabular data in Python. It is a library and a command-line utility. Install the package [tabulate](https://pypi.org/project/tabulate/) using `pip`.\n",
        "\n",
        "Read the package documentation and write the necessary code to pretty print the dictionary `team` like the example below\n",
        "\n",
        "```\n",
        "|   ID | Name              | Hire Date   | Status    | Role            |\n",
        "|------|-------------------|-------------|-----------|-----------------|\n",
        "| 1000 | Linda Mcintyre    | 2015-05-21  | Part Time | Project manager |\n",
        "| 1001 | John Garner       | 2005-05-28  | Part Time | Data curator    |\n",
        "| 1002 | Sarah Hoover      | 2015-11-28  | Part Time | Data analyst    |\n",
        "| 1003 | Charles Flores    | 2003-11-16  | Part Time | Project manager |\n",
        "| 1004 | Todd Jones        | 2018-09-14  | Full Time | Data curator    |\n",
        "| 1005 | Kara Marks        | 2016-04-27  | Part Time | Data analyst    |\n",
        "| 1006 | Lee Smith         | 2002-02-07  | Part Time | Data analyst    |\n",
        "| 1007 | Douglas Johnson   | 2021-05-10  | Full Time | Data curator    |\n",
        "| 1008 | Jonathan Garcia   | 2015-07-28  | Full Time | Data wrangler   |\n",
        "| 1009 | William Hopkins   | 2009-02-23  | Part Time | Data analyst    |\n",
        "| 1010 | Candace Ellis     | 2005-09-12  | Full Time | Project manager |\n",
        "| 1011 | Edward Andersen   | 2017-01-25  | Full Time | Data wrangler   |\n",
        "| 1012 | Katie Stewart     | 2007-02-18  | Full Time | Data analyst    |\n",
        "| 1013 | Carolyn Mercado   | 2010-02-08  | Part Time | Data curator    |\n",
        "| 1014 | Heather Fowler    | 2014-10-16  | Part Time | Data wrangler   |\n",
        "| 1015 | Louis Miller      | 2015-10-25  | Part Time | Project manager |\n",
        "| 1016 | James Rojas       | 2013-05-19  | Full Time | Data analyst    |\n",
        "| 1017 | Richard Patterson | 2017-04-22  | Full Time | Data curator    |\n",
        "| 1018 | Joshua Ford       | 2013-06-08  | Part Time | Data analyst    |\n",
        "| 1019 | Katherine Warren  | 2005-02-08  | Part Time | Data curator    |\n",
        "| 1020 | Lawrence Reynolds | 2010-12-28  | Part Time | Project manager |\n",
        "| 1021 | Jay Patterson     | 2003-12-29  | Part Time | Data curator    |\n",
        "| 1022 | Mary Zimmerman    | 2019-03-15  | Full Time | Data curator    |\n",
        "| 1023 | Deanna Peterson   | 2016-03-16  | Part Time | Project manager |\n",
        "| 1024 | Shane Ellis       | 2020-03-14  | Full Time | Data analyst    |\n",
        "```"
      ],
      "metadata": {
        "id": "WWQRe-Wjl_63"
      }
    },
    {
      "cell_type": "code",
      "source": [
        "!pip install tabulate\n",
        "from tabulate import tabulate\n",
        "print(tabulate(team, headers='keys', tablefmt='github'))"
      ],
      "metadata": {
        "id": "FAwdJ_TY4tzu",
        "outputId": "bde99ab7-2b32-40ab-9318-d0465242d77b",
        "colab": {
          "base_uri": "https://localhost:8080/"
        }
      },
      "execution_count": null,
      "outputs": [
        {
          "output_type": "stream",
          "name": "stdout",
          "text": [
            "Looking in indexes: https://pypi.org/simple, https://us-python.pkg.dev/colab-wheels/public/simple/\n",
            "Requirement already satisfied: tabulate in /usr/local/lib/python3.7/dist-packages (0.8.10)\n",
            "|   ID | Name                | Hire Date   | Status    | Role            |\n",
            "|------|---------------------|-------------|-----------|-----------------|\n",
            "| 1000 | Stephanie Vega      | 2020-01-12  | Full Time | Project manager |\n",
            "| 1001 | Heather Williams    | 2006-03-17  | Full Time | Data curator    |\n",
            "| 1002 | Jillian Henry       | 2007-04-17  | Part Time | Data analyst    |\n",
            "| 1003 | Jodi Dawson         | 2011-10-17  | Full Time | Data curator    |\n",
            "| 1004 | April Watson        | 2007-12-12  | Full Time | Data curator    |\n",
            "| 1005 | Sabrina Ramirez     | 2011-08-27  | Full Time | Data analyst    |\n",
            "| 1006 | Jeffery Garrison    | 2008-05-08  | Full Time | Data wrangler   |\n",
            "| 1007 | Mr. Eric Holmes     | 2012-04-13  | Full Time | Data wrangler   |\n",
            "| 1008 | Brittany Harrison   | 2018-08-02  | Full Time | Project manager |\n",
            "| 1009 | Roy Garcia          | 2002-11-10  | Part Time | Data analyst    |\n",
            "| 1010 | Melissa Brennan     | 2002-11-05  | Full Time | Project manager |\n",
            "| 1011 | Tracy Cole          | 1999-05-25  | Full Time | Data analyst    |\n",
            "| 1012 | Christine Armstrong | 2016-06-17  | Part Time | Data wrangler   |\n",
            "| 1013 | Shawn Jackson       | 2021-03-17  | Full Time | Data analyst    |\n",
            "| 1014 | Christopher Fisher  | 2001-01-26  | Part Time | Data curator    |\n",
            "| 1015 | Tiffany Peters      | 2017-09-10  | Full Time | Data wrangler   |\n",
            "| 1016 | Erica Beck          | 1998-03-03  | Part Time | Data curator    |\n",
            "| 1017 | Breanna Lee         | 2000-03-14  | Full Time | Project manager |\n",
            "| 1018 | Terri Fitzpatrick   | 2013-06-24  | Part Time | Data curator    |\n",
            "| 1019 | Leslie Dean         | 2017-07-31  | Full Time | Project manager |\n",
            "| 1020 | Sarah Mills         | 2014-12-15  | Full Time | Data wrangler   |\n",
            "| 1021 | Phillip Oneal       | 2010-01-18  | Full Time | Data wrangler   |\n",
            "| 1022 | Bill Rich           | 2015-06-17  | Part Time | Data curator    |\n",
            "| 1023 | Willie Ruiz         | 2021-11-14  | Full Time | Data analyst    |\n",
            "| 1024 | Charles Adams       | 1999-03-19  | Full Time | Data curator    |\n"
          ]
        }
      ]
    },
    {
      "cell_type": "markdown",
      "source": [
        "# Exercise - Python Standard Library\n",
        "Use the [docstrings](https://realpython.com/documenting-python-code/) and the [assertions](https://realpython.com/python-assert-statement/) in the cell below as a guide to implement the method `get_n_elements`.\n"
      ],
      "metadata": {
        "id": "zluEy8OW4xED"
      }
    },
    {
      "cell_type": "code",
      "source": [
        "# COMPLETE METHOD AND RUN\n",
        "\n",
        "def get_n_elements( list, n=10 ):\n",
        "  list.sort()\n",
        "  return list[:n]\n",
        "  '''\n",
        "  Helper method that returns the first n elements in a sorted list\n",
        "\n",
        "  :param list: list of integers\n",
        "  :type list: list\n",
        "  :param n: number of elements to return\n",
        "  :type n: integer\n",
        "  :rtype answer: sorted list of n elements\n",
        "  '''\n",
        "  raise NotImplementedError()\n",
        "\n",
        "assert get_n_elements([1,2,3,4,5,6,7,8], 3) == [1,2,3]\n",
        "assert get_n_elements([8,7,6,5,4,3,2,1], 3) == [1,2,3]\n",
        "assert get_n_elements([8,7,6,5,4,3,2,1], 5) == [1,2,3,4,5]\n",
        "assert get_n_elements([8,7,6,5,4,3,2,1], 0) == []\n",
        "assert get_n_elements([8,7,6,5,4,3,2,1], -10) == []"
      ],
      "metadata": {
        "id": "M6oRvEfo4t1J"
      },
      "execution_count": null,
      "outputs": []
    },
    {
      "cell_type": "markdown",
      "source": [
        "## Exercise - Python Standard Library\n",
        "Design an implement a method called `is_palindrome`. \n",
        "\n",
        "* Use only the standard libary.\n",
        "* This method takes an integer and returns True if the number is a [palindrome](https://en.wikipedia.org/wiki/Palindromic_number). False, otherwise.\n",
        "* If the input argument is not an integer, e.g. a string, then the method should return `None`.\n",
        "* Write docstrings for this method.\n",
        "* Write at least 4 assertions to test your method."
      ],
      "metadata": {
        "id": "zBqatJorqEwN"
      }
    },
    {
      "cell_type": "code",
      "source": [
        "def is_palindrome(n):\n",
        "  if type(n)!=int:\n",
        "    return None\n",
        "  return str(n) == str(n)[::-1]\n",
        "  '''\n",
        "  Method that returns whether an integer is palindrome or not\n",
        "\n",
        "  :param n: integer that needs to be checked whether it is palindrome or not\n",
        "  :type n: integer\n",
        "  :rtype answer: If n is a palindrome return True else return False. If n is not an integer return None.\n",
        "  '''\n",
        "  raise NotImplementedError()\n",
        "\n",
        "assert is_palindrome(1001) == True\n",
        "assert is_palindrome(187990) == False\n",
        "assert is_palindrome(\"Prashu\") == None\n",
        "assert is_palindrome(1998991) == True"
      ],
      "metadata": {
        "id": "2jr7TEcIqEEZ"
      },
      "execution_count": null,
      "outputs": []
    },
    {
      "cell_type": "markdown",
      "source": [
        "# Exercise - SIR model\n",
        "The SIR model is a simple mathematical model of epidemics. The entities in this model stand for\n",
        "\n",
        "* (S)usceptible: inviduals that are not infected with the disease yet. However, they are not immune to it either, and so they can become infected with the disease in the future.\n",
        "* (I)nfected or infectious: individuals that are infected with the disease and can transmit the disease to susceptible people.\n",
        "* (R)ecovered: individuals who have recovered from the disease and are immune, so they can no longer be infected.\n",
        "\n",
        "In the most basic form, this model model can be represented as\n",
        "\n",
        "<img src=\"https://wikimedia.org/api/rest_v1/media/math/render/svg/c2a8fd2e93bfcf1092a44cfec7ef32c1a80a26f4\" />\n",
        "\n",
        "where \n",
        "\n",
        "* β is the average number of contacts per person per time\n",
        "* γ is the probability a contagious person becoming non-contagious\n",
        "* N is the population size (constant)\n",
        "\n",
        "Solve the system using the [`odeint`](https://docs.scipy.org/doc/scipy/tutorial/integrate.html) solver from scipy.\n",
        "\n",
        "Use these as your parameters for the solver\n",
        "\n",
        "* `beta = 0.2`\n",
        "* `gamma = 0.07`\n",
        "* `N = 100`\n",
        "* `S0 = 99`\n",
        "* `I = 1`\n",
        "* `R = 0`\n",
        "\n",
        "\n",
        "\n"
      ],
      "metadata": {
        "id": "fDxGQ4CC9uNw"
      }
    },
    {
      "cell_type": "code",
      "source": [
        "# INSERT CODE IN THIS CELL\n",
        "import numpy as np\n",
        "from scipy.integrate import odeint\n",
        "\n",
        "def SIR(initial_vars,t,N,beta,gamma):\n",
        "  S0,I,R = initial_vars\n",
        "  dsdt = -((beta*I*S0)/N)\n",
        "  didt = ((beta*I*S0)/N)-(gamma*I)\n",
        "  drdt = (gamma*I)\n",
        "  return dsdt,didt,drdt\n",
        "\n",
        "t = np.linspace(0,200,200)\n",
        "S0 = 99\n",
        "I = 1\n",
        "R = 0\n",
        "N = 100\n",
        "beta = 0.2\n",
        "gamma = 0.07\n",
        "# derivatives = SIR(S0,t,I,R,N,beta,gamma)\n",
        "# print(derivatives)\n",
        "initial_vars = S0,I,R\n",
        "res = odeint(SIR,initial_vars,t,args=(N,beta,gamma))\n",
        "S,I,R = res.T"
      ],
      "metadata": {
        "id": "9JGRfnzwV4em"
      },
      "execution_count": null,
      "outputs": []
    },
    {
      "cell_type": "markdown",
      "source": [
        "## Pretty print results\n",
        "Use [tabulate](https://pypi.org/project/tabulate/) to pretty print the first and the last 50 data points returned by the ODE solver. The table should have 4 columns: (t)ime, S, I and R."
      ],
      "metadata": {
        "id": "Xiw2SXsYV4xL"
      }
    },
    {
      "cell_type": "code",
      "source": [
        "from tabulate import tabulate\n",
        "res.T[0].tolist()\n",
        "SIRT_dictionary = {\"t\":t,\"S\":S,\"I\":I,\"R\":R}\n",
        "SIRT_dictionary_print = {\"t\":t.tolist()[:50]+t.tolist()[-50:],\"S\":S.tolist()[:50]+S.tolist()[-50:],\"I\":I.tolist()[:50]+I.tolist()[-50:],\"R\":R.tolist()[:50]+R.tolist()[-50:]}\n",
        "print(tabulate(SIRT_dictionary_print, headers=\"keys\",tablefmt='github'))"
      ],
      "metadata": {
        "id": "wbFTN6yjV731",
        "colab": {
          "base_uri": "https://localhost:8080/"
        },
        "outputId": "83568bc4-7256-449a-b403-0a03af021417"
      },
      "execution_count": null,
      "outputs": [
        {
          "output_type": "stream",
          "name": "stdout",
          "text": [
            "|         t |        S |           I |         R |\n",
            "|-----------|----------|-------------|-----------|\n",
            "|   0       | 99       |  1          |  0        |\n",
            "|   1.00503 | 98.7879  |  1.13705    |  0.075072 |\n",
            "|   2.01005 | 98.5473  |  1.29229    |  0.160413 |\n",
            "|   3.01508 | 98.2747  |  1.46797    |  0.257381 |\n",
            "|   4.0201  | 97.9659  |  1.66656    |  0.367498 |\n",
            "|   5.02513 | 97.6168  |  1.89077    |  0.492472 |\n",
            "|   6.03015 | 97.2223  |  2.14353    |  0.634205 |\n",
            "|   7.03518 | 96.7771  |  2.42805    |  0.794819 |\n",
            "|   8.0402  | 96.2756  |  2.74771    |  0.976664 |\n",
            "|   9.04523 | 95.7115  |  3.10614    |  1.18234  |\n",
            "|  10.0503  | 95.0782  |  3.5071     |  1.41471  |\n",
            "|  11.0553  | 94.3686  |  3.95448    |  1.67689  |\n",
            "|  12.0603  | 93.5755  |  4.45221    |  1.9723   |\n",
            "|  13.0653  | 92.6912  |  5.00415    |  2.3046   |\n",
            "|  14.0704  | 91.7083  |  5.61398    |  2.67776  |\n",
            "|  15.0754  | 90.619   |  6.28502    |  3.09595  |\n",
            "|  16.0804  | 89.4163  |  7.0201     |  3.56358  |\n",
            "|  17.0854  | 88.0935  |  7.82128    |  4.08525  |\n",
            "|  18.0905  | 86.6447  |  8.68966    |  4.66564  |\n",
            "|  19.0955  | 85.0654  |  9.62513    |  5.30949  |\n",
            "|  20.1005  | 83.3524  | 10.6261     |  6.02147  |\n",
            "|  21.1055  | 81.5047  | 11.6892     |  6.80608  |\n",
            "|  22.1106  | 79.5231  | 12.8094     |  7.66752  |\n",
            "|  23.1156  | 77.4113  | 13.9792     |  8.60957  |\n",
            "|  24.1206  | 75.1753  | 15.1893     |  9.63539  |\n",
            "|  25.1256  | 72.8244  | 16.4282     | 10.7474   |\n",
            "|  26.1307  | 70.3702  | 17.6826     | 11.9473   |\n",
            "|  27.1357  | 67.8273  | 18.9373     | 13.2354   |\n",
            "|  28.1407  | 65.2125  | 20.1761     | 14.6114   |\n",
            "|  29.1457  | 62.5444  | 21.3821     | 16.0735   |\n",
            "|  30.1508  | 59.8431  | 22.5381     | 17.6188   |\n",
            "|  31.1558  | 57.1292  | 23.6276     | 19.2432   |\n",
            "|  32.1608  | 54.4235  | 24.6352     | 20.9414   |\n",
            "|  33.1658  | 51.7458  | 25.547      | 22.7072   |\n",
            "|  34.1709  | 49.1151  | 26.3515     | 24.5334   |\n",
            "|  35.1759  | 46.5481  | 27.0397     | 26.4122   |\n",
            "|  36.1809  | 44.0597  | 27.6052     | 28.3351   |\n",
            "|  37.1859  | 41.6622  | 28.0444     | 30.2934   |\n",
            "|  38.191   | 39.3655  | 28.3564     | 32.2781   |\n",
            "|  39.196   | 37.1767  | 28.543      | 34.2803   |\n",
            "|  40.201   | 35.1009  | 28.6078     | 36.2913   |\n",
            "|  41.206   | 33.1405  | 28.5568     | 38.3028   |\n",
            "|  42.2111  | 31.2962  | 28.397      | 40.3068   |\n",
            "|  43.2161  | 29.5671  | 28.1369     | 42.296    |\n",
            "|  44.2211  | 27.9508  | 27.7856     | 44.2636   |\n",
            "|  45.2261  | 26.4437  | 27.3527     | 46.2036   |\n",
            "|  46.2312  | 25.0415  | 26.848      | 48.1106   |\n",
            "|  47.2362  | 23.7392  | 26.2811     | 49.9798   |\n",
            "|  48.2412  | 22.5315  | 25.6613     | 51.8072   |\n",
            "|  49.2462  | 21.4129  | 24.9977     | 53.5894   |\n",
            "| 150.754   |  6.96278 |  0.128292   | 92.9089   |\n",
            "| 151.759   |  6.96104 |  0.121262   | 92.9177   |\n",
            "| 152.764   |  6.95939 |  0.114616   | 92.926    |\n",
            "| 153.769   |  6.95783 |  0.108335   | 92.9338   |\n",
            "| 154.774   |  6.95636 |  0.102397   | 92.9412   |\n",
            "| 155.779   |  6.95496 |  0.0967844  | 92.9483   |\n",
            "| 156.784   |  6.95365 |  0.0914793  | 92.9549   |\n",
            "| 157.789   |  6.9524  |  0.0864648  | 92.9611   |\n",
            "| 158.794   |  6.95123 |  0.0817249  | 92.967    |\n",
            "| 159.799   |  6.95012 |  0.0772447  | 92.9726   |\n",
            "| 160.804   |  6.94907 |  0.0730099  | 92.9779   |\n",
            "| 161.809   |  6.94808 |  0.0690072  | 92.9829   |\n",
            "| 162.814   |  6.94714 |  0.0652238  | 92.9876   |\n",
            "| 163.819   |  6.94626 |  0.0616477  | 92.9921   |\n",
            "| 164.824   |  6.94542 |  0.0582675  | 92.9963   |\n",
            "| 165.829   |  6.94463 |  0.0550726  | 93.0003   |\n",
            "| 166.834   |  6.94388 |  0.0520529  | 93.0041   |\n",
            "| 167.839   |  6.94317 |  0.0491986  | 93.0076   |\n",
            "| 168.844   |  6.94251 |  0.0465007  | 93.011    |\n",
            "| 169.849   |  6.94188 |  0.0439508  | 93.0142   |\n",
            "| 170.854   |  6.94128 |  0.0415406  | 93.0172   |\n",
            "| 171.859   |  6.94072 |  0.0392626  | 93.02     |\n",
            "| 172.864   |  6.94018 |  0.0371094  | 93.0227   |\n",
            "| 173.869   |  6.93968 |  0.0350743  | 93.0252   |\n",
            "| 174.874   |  6.9392  |  0.0331508  | 93.0276   |\n",
            "| 175.879   |  6.93876 |  0.0313327  | 93.0299   |\n",
            "| 176.884   |  6.93833 |  0.0296143  | 93.0321   |\n",
            "| 177.889   |  6.93793 |  0.0279901  | 93.0341   |\n",
            "| 178.894   |  6.93755 |  0.026455   | 93.036    |\n",
            "| 179.899   |  6.93719 |  0.025004   | 93.0378   |\n",
            "| 180.905   |  6.93685 |  0.0236326  | 93.0395   |\n",
            "| 181.91    |  6.93653 |  0.0223365  | 93.0411   |\n",
            "| 182.915   |  6.93623 |  0.0211114  | 93.0427   |\n",
            "| 183.92    |  6.93594 |  0.0199534  | 93.0441   |\n",
            "| 184.925   |  6.93567 |  0.018859   | 93.0455   |\n",
            "| 185.93    |  6.93542 |  0.0178246  | 93.0468   |\n",
            "| 186.935   |  6.93517 |  0.0168469  | 93.048    |\n",
            "| 187.94    |  6.93495 |  0.0159229  | 93.0491   |\n",
            "| 188.945   |  6.93473 |  0.0150495  | 93.0502   |\n",
            "| 189.95    |  6.93453 |  0.014224   | 93.0512   |\n",
            "| 190.955   |  6.93433 |  0.0134438  | 93.0522   |\n",
            "| 191.96    |  6.93415 |  0.0127064  | 93.0531   |\n",
            "| 192.965   |  6.93398 |  0.0120094  | 93.054    |\n",
            "| 193.97    |  6.93382 |  0.0113507  | 93.0548   |\n",
            "| 194.975   |  6.93366 |  0.010728   | 93.0556   |\n",
            "| 195.98    |  6.93352 |  0.0101396  | 93.0563   |\n",
            "| 196.985   |  6.93338 |  0.00958339 | 93.057    |\n",
            "| 197.99    |  6.93325 |  0.00905771 | 93.0577   |\n",
            "| 198.995   |  6.93313 |  0.00856086 | 93.0583   |\n",
            "| 200       |  6.93301 |  0.00809126 | 93.0589   |\n"
          ]
        }
      ]
    },
    {
      "cell_type": "markdown",
      "source": [
        "## Save variables to disk\n",
        "Use [pickle](https://docs.python.org/3/library/pickle.html) to serialize the variables `S`, `I`, `R` and `t`. Save the pickle file to the course folder in your Google Drive in a file named `sir.pkl`. \n",
        "\n",
        "Hint: for example, store the variables in a dictionary and then dump the dictionary to a pickle file."
      ],
      "metadata": {
        "id": "kshoCNsWV8Zz"
      }
    },
    {
      "cell_type": "code",
      "source": [
        "import pickle\n",
        "file = 'SIRt_pickle_file.pkl'\n",
        "out = open(file,'wb')\n",
        "pickle.dump(SIRT_dictionary,out)"
      ],
      "metadata": {
        "id": "Fb7_lnNE55UY"
      },
      "execution_count": null,
      "outputs": []
    },
    {
      "cell_type": "markdown",
      "source": [
        "# Exercise - Matrix multiplication using `numpy`\n",
        "Design an implement a method called `can_be_multiplied`. \n",
        "\n",
        "* Use only the standard libary and `numpy`.\n",
        "* This method takes two Numpy arrays and returns True if these two matrices can be multiplied. False, otherwise.\n",
        "* Work on the assumption that if the input arguments are `a` and `b` (in that order), then the operation `a*b` will be checked by this method and not `b*a`.\n",
        "* If the input argument is not a Numpy array, then the method should return `None`.\n",
        "* Write docstrings for this method.\n",
        "* Write at least 4 assertions to test your method."
      ],
      "metadata": {
        "id": "y4Q5bs-4ujiw"
      }
    },
    {
      "cell_type": "code",
      "source": [
        "import numpy as np\n",
        "def can_be_multiplied(a,b):\n",
        "  '''\n",
        "  Helper method that returns whether matrix multiplication is possible or not\n",
        "\n",
        "  :param a: matrix a\n",
        "  :type a: numpy array\n",
        "  :param b: matrix b\n",
        "  :type b: numpy array\n",
        "  :rtype answer: return True if matrix multiplication is possible, else returns False. If not numpy matrix return None.\n",
        "  '''\n",
        "  if type(a) != np.ndarray or type(b) != np.ndarray:\n",
        "    return None\n",
        "  else:\n",
        "    am,an = a.shape\n",
        "    bm,bn = b.shape\n",
        "    if an == bm:\n",
        "      return True\n",
        "    else:\n",
        "      return False\n",
        "\n",
        "\n",
        "assert can_be_multiplied(np.array([[1,2,9],[3,4,6]]),np.array([[1,2],[3,4]])) == False\n",
        "assert can_be_multiplied(np.array([[1,2,9],[3,4,6]]),np.array([[1,2,8],[3,4,10],[0,9,5]])) == True\n",
        "assert can_be_multiplied(\"Hello\",\"World\") == None\n",
        "assert can_be_multiplied([[1,2,9],[3,4,6]],[[1,2],[3,4]])==None\n"
      ],
      "metadata": {
        "id": "aGKEp07vujpy"
      },
      "execution_count": null,
      "outputs": []
    }
  ]
}